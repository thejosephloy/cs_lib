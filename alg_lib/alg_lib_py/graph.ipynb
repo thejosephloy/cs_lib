{
 "cells": [
  {
   "cell_type": "code",
   "execution_count": 3,
   "id": "ea08c88e",
   "metadata": {},
   "outputs": [],
   "source": [
    "import numpy as np\n",
    "import scipy as sp\n",
    "import pandas as pd\n",
    "import sys\n",
    "from timeit import default_timer as timer\n",
    "import matplotlib as mpl\n",
    "import matplotlib.pyplot as plt\n",
    "import math\n",
    "\n",
    "\n",
    "INTMAX = 2147483647"
   ]
  },
  {
   "cell_type": "code",
   "execution_count": 4,
   "id": "644a974b",
   "metadata": {},
   "outputs": [],
   "source": [
    "# Adjacency List provided by chatgpt\n",
    "class Graph:\n",
    "    def __init__(self):\n",
    "        self.adjacency_list = {}\n",
    "\n",
    "    def add_vertex(self, vertex):\n",
    "        self.adjacency_list[vertex] = {}\n",
    "\n",
    "    def add_edge(self, vertex1, vertex2, weight):\n",
    "        self.adjacency_list[vertex1][vertex2] = weight\n",
    "\n",
    "    def get_adjacent_vertices(self, vertex):\n",
    "        return list(self.adjacency_list[vertex].keys())\n",
    "\n",
    "    def get_weight(self, vertex1, vertex2):\n",
    "        return self.adjacency_list[vertex1][vertex2]"
   ]
  },
  {
   "cell_type": "code",
   "execution_count": 2,
   "id": "5cbdd3c5",
   "metadata": {},
   "outputs": [],
   "source": [
    "# Adjacency Matrix provided by chatgpt \n",
    "class Graph:\n",
    "    def __init__(self, num_vertices):\n",
    "        self.num_vertices = num_vertices\n",
    "        self.adjacency_matrix = [[0] * num_vertices for _ in range(num_vertices)]\n",
    "\n",
    "    def add_edge(self, vertex1, vertex2, weight):\n",
    "        self.adjacency_matrix[vertex1][vertex2] = weight\n",
    "\n",
    "    def get_weight(self, vertex1, vertex2):\n",
    "        return self.adjacency_matrix[vertex1][vertex2]"
   ]
  },
  {
   "cell_type": "markdown",
   "id": "30c6e486",
   "metadata": {},
   "source": [
    "# Elementary Graph Algs\n",
    "\n",
    "## Depth First Search"
   ]
  },
  {
   "cell_type": "code",
   "execution_count": 2,
   "id": "5d0f7e18",
   "metadata": {},
   "outputs": [
    {
     "ename": "SyntaxError",
     "evalue": "incomplete input (3430158059.py, line 2)",
     "output_type": "error",
     "traceback": [
      "\u001b[0;36m  Cell \u001b[0;32mIn[2], line 2\u001b[0;36m\u001b[0m\n\u001b[0;31m    # to do\u001b[0m\n\u001b[0m           ^\u001b[0m\n\u001b[0;31mSyntaxError\u001b[0m\u001b[0;31m:\u001b[0m incomplete input\n"
     ]
    }
   ],
   "source": [
    "def DFS():\n",
    "    # to do"
   ]
  },
  {
   "cell_type": "markdown",
   "id": "040a3cca",
   "metadata": {},
   "source": [
    "## Breadth First Search"
   ]
  },
  {
   "cell_type": "code",
   "execution_count": 3,
   "id": "066e15ff",
   "metadata": {},
   "outputs": [
    {
     "ename": "SyntaxError",
     "evalue": "incomplete input (1843715143.py, line 19)",
     "output_type": "error",
     "traceback": [
      "\u001b[0;36m  Cell \u001b[0;32mIn[3], line 19\u001b[0;36m\u001b[0m\n\u001b[0;31m    #    u.color = BLACK\u001b[0m\n\u001b[0m                        ^\u001b[0m\n\u001b[0;31mSyntaxError\u001b[0m\u001b[0;31m:\u001b[0m incomplete input\n"
     ]
    }
   ],
   "source": [
    "def BFS(G, s):\n",
    "    # For each vertex u in G. V - {s}\n",
    "    #    u.color = WHITE\n",
    "    #    u.d = inf\n",
    "    #    u.pi = NIL\n",
    "    # s.color = GRAY\n",
    "    # s.d = 0\n",
    "    # s.pi = NIL\n",
    "    # Q = []\n",
    "    # Enqueue(Q, s)\n",
    "    # while Q != None:\n",
    "    #    u = dequeue(Q)\n",
    "    #    for each v in G. Adj[u]\n",
    "    #       if v.color == WHITE\n",
    "    #          v.color = GRAY\n",
    "    #          v.d = u.d + 1\n",
    "    #          v.pi = u\n",
    "    #          ENQUEUE(Q, v)\n",
    "    #    u.color = BLACK"
   ]
  },
  {
   "cell_type": "markdown",
   "id": "69bdd235",
   "metadata": {},
   "source": [
    "# Single Shot Shortest Path\n",
    "\n",
    "## Bellman-Ford Algorithm"
   ]
  },
  {
   "cell_type": "code",
   "execution_count": null,
   "id": "85b5cd99",
   "metadata": {},
   "outputs": [],
   "source": []
  },
  {
   "cell_type": "markdown",
   "id": "460c4959",
   "metadata": {},
   "source": [
    "## Djikstra's Algorithm"
   ]
  },
  {
   "cell_type": "code",
   "execution_count": null,
   "id": "14f2ae07",
   "metadata": {},
   "outputs": [],
   "source": []
  },
  {
   "cell_type": "markdown",
   "id": "174ec7d2",
   "metadata": {},
   "source": [
    "## Iterative Deepening A*"
   ]
  },
  {
   "cell_type": "code",
   "execution_count": null,
   "id": "dcf39d2d",
   "metadata": {},
   "outputs": [],
   "source": []
  },
  {
   "cell_type": "markdown",
   "id": "9960ad32",
   "metadata": {},
   "source": [
    "## SMA* Search"
   ]
  },
  {
   "cell_type": "code",
   "execution_count": null,
   "id": "783bc107",
   "metadata": {},
   "outputs": [],
   "source": []
  },
  {
   "cell_type": "markdown",
   "id": "b2d6e5d4",
   "metadata": {},
   "source": [
    "# Minimum Spanning Tree Algorithms"
   ]
  },
  {
   "cell_type": "markdown",
   "id": "8c132011",
   "metadata": {},
   "source": [
    "## Generic MST"
   ]
  },
  {
   "cell_type": "code",
   "execution_count": null,
   "id": "ebd75ef5",
   "metadata": {},
   "outputs": [],
   "source": []
  },
  {
   "cell_type": "markdown",
   "id": "bf136688",
   "metadata": {},
   "source": [
    "## Kruskal MST"
   ]
  },
  {
   "cell_type": "code",
   "execution_count": null,
   "id": "fda1b6a8",
   "metadata": {},
   "outputs": [],
   "source": []
  },
  {
   "cell_type": "markdown",
   "id": "ce62ec40",
   "metadata": {},
   "source": [
    "## Prim MST"
   ]
  },
  {
   "cell_type": "code",
   "execution_count": null,
   "id": "f746d317",
   "metadata": {},
   "outputs": [],
   "source": []
  },
  {
   "cell_type": "markdown",
   "id": "b1935c4b",
   "metadata": {},
   "source": [
    "# All Pairs Shortest Paths\n",
    "\n",
    "## All-pairs shortest path"
   ]
  },
  {
   "cell_type": "code",
   "execution_count": null,
   "id": "796c1065",
   "metadata": {},
   "outputs": [],
   "source": []
  },
  {
   "cell_type": "markdown",
   "id": "702904e9",
   "metadata": {},
   "source": [
    "## Floyd-Warshall Algorithm"
   ]
  },
  {
   "cell_type": "code",
   "execution_count": null,
   "id": "806ff647",
   "metadata": {},
   "outputs": [],
   "source": []
  },
  {
   "cell_type": "markdown",
   "id": "5defc93e",
   "metadata": {},
   "source": [
    "## Johnson Algorithm"
   ]
  },
  {
   "cell_type": "code",
   "execution_count": null,
   "id": "a7098e68",
   "metadata": {},
   "outputs": [],
   "source": []
  },
  {
   "cell_type": "markdown",
   "id": "cbf234c0",
   "metadata": {},
   "source": [
    "# Maximum Flow\n",
    "\n",
    "## Edmonds-Karp Algorithm"
   ]
  },
  {
   "cell_type": "code",
   "execution_count": null,
   "id": "78b7f42a",
   "metadata": {},
   "outputs": [],
   "source": []
  },
  {
   "cell_type": "markdown",
   "id": "84b52d94",
   "metadata": {},
   "source": [
    "## Push-relabel algorithm"
   ]
  },
  {
   "cell_type": "code",
   "execution_count": null,
   "id": "907d9def",
   "metadata": {},
   "outputs": [],
   "source": []
  }
 ],
 "metadata": {
  "kernelspec": {
   "display_name": "Python 3 (ipykernel)",
   "language": "python",
   "name": "python3"
  },
  "language_info": {
   "codemirror_mode": {
    "name": "ipython",
    "version": 3
   },
   "file_extension": ".py",
   "mimetype": "text/x-python",
   "name": "python",
   "nbconvert_exporter": "python",
   "pygments_lexer": "ipython3",
   "version": "3.9.13"
  }
 },
 "nbformat": 4,
 "nbformat_minor": 5
}
