{
 "cells": [
  {
   "cell_type": "code",
   "execution_count": 2,
   "id": "ea08c88e",
   "metadata": {},
   "outputs": [],
   "source": [
    "import numpy as np\n",
    "import scipy as sp\n",
    "import pandas as pd\n",
    "import sys\n",
    "from timeit import default_timer as timer\n",
    "import matplotlib as mpl\n",
    "import matplotlib.pyplot as plt\n",
    "import math\n",
    "\n",
    "\n",
    "INTMAX = 2147483647"
   ]
  },
  {
   "cell_type": "markdown",
   "id": "30c6e486",
   "metadata": {},
   "source": [
    "# Searching Algorithms\n",
    "\n",
    "## Depth First Search"
   ]
  },
  {
   "cell_type": "code",
   "execution_count": 3,
   "id": "5d0f7e18",
   "metadata": {},
   "outputs": [
    {
     "ename": "NameError",
     "evalue": "name 'root' is not defined",
     "output_type": "error",
     "traceback": [
      "\u001b[0;31m---------------------------------------------------------------------------\u001b[0m",
      "\u001b[0;31mNameError\u001b[0m                                 Traceback (most recent call last)",
      "Cell \u001b[0;32mIn[3], line 14\u001b[0m\n\u001b[1;32m     11\u001b[0m             DFS(rightRoot, key)\n\u001b[1;32m     13\u001b[0m \u001b[38;5;66;03m#DFS(root, 4)\u001b[39;00m\n\u001b[0;32m---> 14\u001b[0m DFS(\u001b[43mroot\u001b[49m, \u001b[38;5;241m12\u001b[39m)\n",
      "\u001b[0;31mNameError\u001b[0m: name 'root' is not defined"
     ]
    }
   ],
   "source": [
    "def DFS(root, key):\n",
    "    if root.data == key:\n",
    "        print(\"Found the key\")\n",
    "        return\n",
    "    else:\n",
    "        leftRoot = root.left\n",
    "        rightRoot = root.right\n",
    "        if leftRoot != None:\n",
    "            DFS(leftRoot, key)\n",
    "        if rightRoot != None:\n",
    "            DFS(rightRoot, key)\n",
    "            \n",
    "#DFS(root, 4)\n",
    "DFS(root, 12)"
   ]
  },
  {
   "cell_type": "markdown",
   "id": "040a3cca",
   "metadata": {},
   "source": [
    "## Breadth First Search"
   ]
  },
  {
   "cell_type": "code",
   "execution_count": null,
   "id": "066e15ff",
   "metadata": {},
   "outputs": [],
   "source": [
    "def BFS(G, s):\n",
    "    # For each vertex u in G. V - {s}\n",
    "    #    u.color = WHITE\n",
    "    #    u.d = inf\n",
    "    #    u.pi = NIL\n",
    "    # s.color = GRAY\n",
    "    # s.d = 0\n",
    "    # s.pi = NIL\n",
    "    # Q = []\n",
    "    # Enqueue(Q, s)\n",
    "    # while Q != None:\n",
    "    #    u = dequeue(Q)\n",
    "    #    for each v in G. Adj[u]\n",
    "    #       if v.color == WHITE\n",
    "    #          v.color = GRAY\n",
    "    #          v.d = u.d + 1\n",
    "    #          v.pi = u\n",
    "    #          ENQUEUE(Q, v)\n",
    "    #    u.color = BLACK"
   ]
  },
  {
   "cell_type": "markdown",
   "id": "69bdd235",
   "metadata": {},
   "source": [
    "## A* Search"
   ]
  },
  {
   "cell_type": "code",
   "execution_count": null,
   "id": "85b5cd99",
   "metadata": {},
   "outputs": [],
   "source": []
  },
  {
   "cell_type": "markdown",
   "id": "174ec7d2",
   "metadata": {},
   "source": [
    "## Iterative Deepening A*"
   ]
  },
  {
   "cell_type": "code",
   "execution_count": null,
   "id": "dcf39d2d",
   "metadata": {},
   "outputs": [],
   "source": []
  },
  {
   "cell_type": "markdown",
   "id": "9960ad32",
   "metadata": {},
   "source": [
    "## SMA* Search"
   ]
  },
  {
   "cell_type": "code",
   "execution_count": null,
   "id": "783bc107",
   "metadata": {},
   "outputs": [],
   "source": []
  },
  {
   "cell_type": "markdown",
   "id": "6742112b",
   "metadata": {},
   "source": [
    "# Selection Algorithms\n",
    "\n",
    "## Minimum and Maximum"
   ]
  },
  {
   "cell_type": "code",
   "execution_count": null,
   "id": "c7531f47",
   "metadata": {},
   "outputs": [],
   "source": []
  },
  {
   "cell_type": "markdown",
   "id": "42d48631",
   "metadata": {},
   "source": [
    "## Randomized Select"
   ]
  },
  {
   "cell_type": "code",
   "execution_count": null,
   "id": "24103034",
   "metadata": {},
   "outputs": [],
   "source": []
  },
  {
   "cell_type": "markdown",
   "id": "a93aa123",
   "metadata": {},
   "source": [
    "## Select"
   ]
  },
  {
   "cell_type": "code",
   "execution_count": null,
   "id": "f27c7f65",
   "metadata": {},
   "outputs": [],
   "source": []
  }
 ],
 "metadata": {
  "kernelspec": {
   "display_name": "Python 3 (ipykernel)",
   "language": "python",
   "name": "python3"
  },
  "language_info": {
   "codemirror_mode": {
    "name": "ipython",
    "version": 3
   },
   "file_extension": ".py",
   "mimetype": "text/x-python",
   "name": "python",
   "nbconvert_exporter": "python",
   "pygments_lexer": "ipython3",
   "version": "3.10.9"
  }
 },
 "nbformat": 4,
 "nbformat_minor": 5
}
