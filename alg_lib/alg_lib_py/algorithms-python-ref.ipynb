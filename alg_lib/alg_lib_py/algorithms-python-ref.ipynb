{
 "cells": [
  {
   "cell_type": "markdown",
   "id": "a430c709",
   "metadata": {},
   "source": [
    "# alg-lib-py\n",
    "## algs.ipynb by Joseph Loy\n",
    "## Python library for common and useful algorithms\n",
    "\n"
   ]
  },
  {
   "cell_type": "code",
   "execution_count": 3,
   "id": "8a0ca1c1",
   "metadata": {},
   "outputs": [],
   "source": [
    "import numpy as np\n",
    "import scipy as sp\n",
    "import pandas as pd\n",
    "import sys\n",
    "from timeit import default_timer as timer\n",
    "import matplotlib as mpl\n",
    "import matplotlib.pyplot as plt\n",
    "\n",
    "INTMAX = 2147483647"
   ]
  },
  {
   "cell_type": "markdown",
   "id": "ef6295b3",
   "metadata": {},
   "source": [
    "## Sorting Algorithms\n",
    "\n",
    "### Mergesort"
   ]
  },
  {
   "cell_type": "code",
   "execution_count": 25,
   "id": "4098344a",
   "metadata": {},
   "outputs": [
    {
     "name": "stdout",
     "output_type": "stream",
     "text": [
      "[ -891   731   739 -5983  4052 -3840 -3536 -1139  2155 -5751]\n",
      "[-5983 -5751 -3840 -3536 -1139  -891   731   739  2155  4052]\n",
      "0.0002565419999882579\n",
      "0.0009300410019932315\n",
      "0.010665958994650282\n",
      "0.08451541700924281\n",
      "0.7506257089989958\n"
     ]
    },
    {
     "data": {
      "text/plain": [
       "[<matplotlib.lines.Line2D at 0x1309a9480>]"
      ]
     },
     "execution_count": 25,
     "metadata": {},
     "output_type": "execute_result"
    },
    {
     "data": {
      "image/png": "[encoded data removed]",
      "text/plain": [
       "<Figure size 640x480 with 1 Axes>"
      ]
     },
     "metadata": {},
     "output_type": "display_data"
    }
   ],
   "source": [
    "# Take two arrays of length N / 2 and combine them into a sorted array \n",
    "# of length N\n",
    "# Assumes that arr1 and arr2 are already sorted from least to greatest\n",
    "def merge(A, p, q, r):\n",
    "    p = int(p)\n",
    "    q = int(q)\n",
    "    r = int(r)\n",
    "    n1 = q - p + 1\n",
    "    n2 = r - q\n",
    "    L = np.zeros(n1 + 1)\n",
    "    R = np.zeros(n2 + 1)\n",
    "    for i in range(1, n1 + 1):\n",
    "        L[i - 1] = A[p + i - 1]\n",
    "    for j in range(1, n2 + 1):\n",
    "        R[j - 1] = A[q + j]\n",
    "    L[n1] = INTMAX\n",
    "    R[n2] = INTMAX\n",
    "    i = 0\n",
    "    j = 0\n",
    "    for k in range(p, r + 1):       \n",
    "        if L[i] <= R[j]:\n",
    "            A[k] = L[i]\n",
    "            i = i + 1\n",
    "        else:\n",
    "            A[k] = R[j]\n",
    "            j = j + 1\n",
    "    \n",
    "    return A\n",
    "\n",
    "# Given an array of length N, split the array into arrays of length \n",
    "# N / 2 until sorting is trivial, and recombine subarrays to get \n",
    "# the orginal array but sorted. \n",
    "def mergesort(A, p, r):\n",
    "    if p < r:\n",
    "        q = np.floor((p + r) / 2)\n",
    "        L = mergesort(A, p, q)\n",
    "        R = mergesort(A, q + 1, r)\n",
    "        A = merge(A, p , q, r)\n",
    "        return A\n",
    "        \n",
    "A_10 = np.random.randint(low=-10000, high=10000, size=10)\n",
    "print(A_10)\n",
    "p10 = 0\n",
    "r10 = A_10.size - 1\n",
    "start1 = timer()\n",
    "mergesort(A_10, p10, r10)\n",
    "print(A_10)\n",
    "end1 = timer()\n",
    "time1 = end1 - start1\n",
    "print(time1) # time in seconds\n",
    "\n",
    "A_100 = np.random.randint(low=-10000, high=10000, size=100)\n",
    "p100 = 0\n",
    "r100 = A_100.size - 1\n",
    "start2 = timer()\n",
    "mergesort(A_100, p100, r100)\n",
    "end2 = timer()\n",
    "time2 = end2 - start2\n",
    "print(time2) # time in seconds\n",
    "\n",
    "A_1000 = np.random.randint(low=-10000, high=10000, size=1000)\n",
    "p1000 = 0\n",
    "r1000 = A_1000.size - 1\n",
    "start3 = timer()\n",
    "mergesort(A_1000, p1000, r1000)\n",
    "end3 = timer()\n",
    "time3 = end3 - start3\n",
    "print(time3) # time in seconds\n",
    "\n",
    "A_10000 = np.random.randint(low=-10000, high=10000, size=10000)\n",
    "p10000 = 0\n",
    "r10000 = A_10000.size - 1\n",
    "start4 = timer()\n",
    "mergesort(A_10000, p10000, r10000)\n",
    "end4 = timer()\n",
    "time4 = end4 - start4\n",
    "print(time4) # time in seconds\n",
    "\n",
    "A_100000 = np.random.randint(low=-10000, high=10000, size=100000)\n",
    "p100000 = 0\n",
    "r100000 = A_100000.size - 1\n",
    "start5 = timer()\n",
    "mergesort(A_100000, p100000, r100000)\n",
    "end5 = timer()\n",
    "time5 = end5 - start5\n",
    "print(time5) # time in seconds\n",
    "\n",
    "\n",
    "fig, ax = plt.subplots()\n",
    "ax.plot([10, 100, 1000, 10000, 100000], [time1, time2, time3, time4, time5])\n",
    "\n",
    "\n"
   ]
  },
  {
   "cell_type": "markdown",
   "id": "f0f4778b",
   "metadata": {},
   "source": [
    "### Quicksort"
   ]
  },
  {
   "cell_type": "code",
   "execution_count": 26,
   "id": "986cf549",
   "metadata": {},
   "outputs": [
    {
     "name": "stdout",
     "output_type": "stream",
     "text": [
      "[-1281   638  3943 -4725 -9659 -4947 -1154  5297  7433 -7969]\n",
      "[-9659 -7969 -4947 -4725 -1281 -1154   638  3943  5297  7433]\n",
      "7.466599345207214e-05\n"
     ]
    }
   ],
   "source": [
    "def quicksort(A, p ,r):\n",
    "    p = int(p)\n",
    "    r = int(r)\n",
    "    \n",
    "    if p < r:\n",
    "        q = partition(A, p, r)\n",
    "        quicksort(A, p, q - 1)\n",
    "        quicksort(A, q + 1, r)\n",
    "\n",
    "def partition(A, p, r):\n",
    "    x = A[r]\n",
    "    i = p - 1\n",
    "    for j in range(p, r):\n",
    "        if A[j] <= x:\n",
    "            i = i + 1\n",
    "            tmp = A[i]\n",
    "            A[i] = A[j]\n",
    "            A[j] = tmp\n",
    "    tmp = A[i + 1]\n",
    "    A[i + 1] = A[r]\n",
    "    A[r] = tmp\n",
    "    return i + 1\n",
    "\n",
    "A_10 = np.random.randint(low=-10000, high=10000, size=10)\n",
    "print(A_10)\n",
    "p10 = 0\n",
    "r10 = A_10.size - 1\n",
    "start1 = timer()\n",
    "quicksort(A_10, p10, r10)\n",
    "print(A_10)\n",
    "end1 = timer()\n",
    "time1 = end1 - start1\n",
    "print(time1) # time in seconds"
   ]
  },
  {
   "cell_type": "markdown",
   "id": "408b0578",
   "metadata": {},
   "source": [
    "### Heapsort"
   ]
  },
  {
   "cell_type": "code",
   "execution_count": null,
   "id": "9f978f04",
   "metadata": {},
   "outputs": [],
   "source": []
  },
  {
   "cell_type": "markdown",
   "id": "773aa710",
   "metadata": {},
   "source": [
    "### Radix Sort "
   ]
  },
  {
   "cell_type": "code",
   "execution_count": null,
   "id": "840c3fee",
   "metadata": {},
   "outputs": [],
   "source": []
  },
  {
   "cell_type": "markdown",
   "id": "3b69ca91",
   "metadata": {},
   "source": [
    "## Searching Algorithms\n",
    "\n",
    "### Breadth first search"
   ]
  },
  {
   "cell_type": "code",
   "execution_count": null,
   "id": "36a17b85",
   "metadata": {},
   "outputs": [],
   "source": [
    "def BFS(G, s):\n",
    "    # For each vertex u in G. V - {s}\n",
    "    #    u.color = WHITE\n",
    "    #    u.d = inf\n",
    "    #    u.pi = NIL\n",
    "    # s.color = GRAY\n",
    "    # s.d = 0\n",
    "    # s.pi = NIL\n",
    "    # Q = []\n",
    "    # Enqueue(Q, s)\n",
    "    # while Q != None:\n",
    "    #    u = dequeue(Q)\n",
    "    #    for each v in G. Adj[u]\n",
    "    #       if v.color == WHITE\n",
    "    #          v.color = GRAY\n",
    "    #          v.d = u.d + 1\n",
    "    #          v.pi = u\n",
    "    #          ENQUEUE(Q, v)\n",
    "    #    u.color = BLACK"
   ]
  },
  {
   "cell_type": "markdown",
   "id": "52c3a3a1",
   "metadata": {},
   "source": [
    "### Depth first search"
   ]
  },
  {
   "cell_type": "code",
   "execution_count": 14,
   "id": "456814a0",
   "metadata": {},
   "outputs": [
    {
     "ename": "NameError",
     "evalue": "name 'root' is not defined",
     "output_type": "error",
     "traceback": [
      "\u001b[0;31m---------------------------------------------------------------------------\u001b[0m",
      "\u001b[0;31mNameError\u001b[0m                                 Traceback (most recent call last)",
      "\u001b[0;32m<ipython-input-14-f6b9071f623d>\u001b[0m in \u001b[0;36m<module>\u001b[0;34m\u001b[0m\n\u001b[1;32m     12\u001b[0m \u001b[0;34m\u001b[0m\u001b[0m\n\u001b[1;32m     13\u001b[0m \u001b[0;31m#DFS(root, 4)\u001b[0m\u001b[0;34m\u001b[0m\u001b[0;34m\u001b[0m\u001b[0;34m\u001b[0m\u001b[0m\n\u001b[0;32m---> 14\u001b[0;31m \u001b[0mDFS\u001b[0m\u001b[0;34m(\u001b[0m\u001b[0mroot\u001b[0m\u001b[0;34m,\u001b[0m \u001b[0;36m12\u001b[0m\u001b[0;34m)\u001b[0m\u001b[0;34m\u001b[0m\u001b[0;34m\u001b[0m\u001b[0m\n\u001b[0m",
      "\u001b[0;31mNameError\u001b[0m: name 'root' is not defined"
     ]
    }
   ],
   "source": [
    "def DFS(root, key):\n",
    "    if root.data == key:\n",
    "        print(\"Found the key\")\n",
    "        return\n",
    "    else:\n",
    "        leftRoot = root.left\n",
    "        rightRoot = root.right\n",
    "        if leftRoot != None:\n",
    "            DFS(leftRoot, key)\n",
    "        if rightRoot != None:\n",
    "            DFS(rightRoot, key)\n",
    "            \n",
    "#DFS(root, 4)\n",
    "DFS(root, 12)"
   ]
  },
  {
   "cell_type": "markdown",
   "id": "b9b5dab2",
   "metadata": {},
   "source": [
    "### A* Search "
   ]
  },
  {
   "cell_type": "code",
   "execution_count": null,
   "id": "165d1d88",
   "metadata": {},
   "outputs": [],
   "source": []
  },
  {
   "cell_type": "markdown",
   "id": "f2f26999",
   "metadata": {},
   "source": [
    "### Iterative deepening A*"
   ]
  },
  {
   "cell_type": "code",
   "execution_count": null,
   "id": "cd2da008",
   "metadata": {},
   "outputs": [],
   "source": []
  },
  {
   "cell_type": "markdown",
   "id": "e197b58a",
   "metadata": {},
   "source": [
    "### SMA* search"
   ]
  },
  {
   "cell_type": "code",
   "execution_count": null,
   "id": "bcfa5ef2",
   "metadata": {},
   "outputs": [],
   "source": []
  }
 ],
 "metadata": {
  "kernelspec": {
   "display_name": "Python 3 (ipykernel)",
   "language": "python",
   "name": "python3"
  },
  "language_info": {
   "codemirror_mode": {
    "name": "ipython",
    "version": 3
   },
   "file_extension": ".py",
   "mimetype": "text/x-python",
   "name": "python",
   "nbconvert_exporter": "python",
   "pygments_lexer": "ipython3",
   "version": "3.10.9"
  }
 },
 "nbformat": 4,
 "nbformat_minor": 5
}
