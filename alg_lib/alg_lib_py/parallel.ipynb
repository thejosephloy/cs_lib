{
 "cells": [
  {
   "cell_type": "markdown",
   "id": "f6cb8014",
   "metadata": {},
   "source": [
    "# Parallel / Multithreading Algorithms\n",
    "https://github.com/srush/GPU-Puzzles"
   ]
  },
  {
   "cell_type": "markdown",
   "id": "7f6e0efc",
   "metadata": {},
   "source": [
    "## Dot Product"
   ]
  },
  {
   "cell_type": "code",
   "execution_count": null,
   "id": "05264fe1",
   "metadata": {},
   "outputs": [],
   "source": []
  },
  {
   "cell_type": "markdown",
   "id": "d6d843f0",
   "metadata": {},
   "source": [
    "## Matrix Vector Product"
   ]
  },
  {
   "cell_type": "code",
   "execution_count": null,
   "id": "c3688548",
   "metadata": {},
   "outputs": [],
   "source": []
  },
  {
   "cell_type": "markdown",
   "id": "0cdfc86f",
   "metadata": {},
   "source": [
    "## Matrix Matrix Product"
   ]
  },
  {
   "cell_type": "code",
   "execution_count": null,
   "id": "69b026b6",
   "metadata": {},
   "outputs": [],
   "source": []
  },
  {
   "cell_type": "markdown",
   "id": "fde7e06d",
   "metadata": {},
   "source": [
    "## Multithreaded Mergesort"
   ]
  },
  {
   "cell_type": "code",
   "execution_count": null,
   "id": "05c472b0",
   "metadata": {},
   "outputs": [],
   "source": []
  },
  {
   "cell_type": "markdown",
   "id": "6822de4c",
   "metadata": {},
   "source": [
    "## Map"
   ]
  },
  {
   "cell_type": "code",
   "execution_count": null,
   "id": "1fc7eb26",
   "metadata": {},
   "outputs": [],
   "source": []
  },
  {
   "cell_type": "markdown",
   "id": "6ce940b7",
   "metadata": {},
   "source": [
    "## Zip"
   ]
  },
  {
   "cell_type": "code",
   "execution_count": null,
   "id": "c35d65f0",
   "metadata": {},
   "outputs": [],
   "source": []
  },
  {
   "cell_type": "markdown",
   "id": "1801f1be",
   "metadata": {},
   "source": [
    "## Guard"
   ]
  },
  {
   "cell_type": "code",
   "execution_count": null,
   "id": "c950a5ce",
   "metadata": {},
   "outputs": [],
   "source": []
  },
  {
   "cell_type": "markdown",
   "id": "fbdb8b37",
   "metadata": {},
   "source": [
    "## 2D Map"
   ]
  },
  {
   "cell_type": "code",
   "execution_count": null,
   "id": "c6047c28",
   "metadata": {},
   "outputs": [],
   "source": []
  },
  {
   "cell_type": "markdown",
   "id": "d2d131de",
   "metadata": {},
   "source": [
    "## Broadcast"
   ]
  },
  {
   "cell_type": "code",
   "execution_count": null,
   "id": "2f6f4ba7",
   "metadata": {},
   "outputs": [],
   "source": []
  },
  {
   "cell_type": "markdown",
   "id": "62d6174d",
   "metadata": {},
   "source": [
    "## Blocks"
   ]
  },
  {
   "cell_type": "code",
   "execution_count": null,
   "id": "3b5fd243",
   "metadata": {},
   "outputs": [],
   "source": []
  },
  {
   "cell_type": "markdown",
   "id": "24e9deab",
   "metadata": {},
   "source": [
    "## 2D Blocks"
   ]
  },
  {
   "cell_type": "code",
   "execution_count": null,
   "id": "79a7dc80",
   "metadata": {},
   "outputs": [],
   "source": []
  },
  {
   "cell_type": "markdown",
   "id": "91d67f13",
   "metadata": {},
   "source": [
    "## Shared"
   ]
  },
  {
   "cell_type": "code",
   "execution_count": null,
   "id": "6c4b152d",
   "metadata": {},
   "outputs": [],
   "source": []
  },
  {
   "cell_type": "markdown",
   "id": "ea8bd991",
   "metadata": {},
   "source": [
    "## Pooling"
   ]
  },
  {
   "cell_type": "code",
   "execution_count": null,
   "id": "b0dfcbce",
   "metadata": {},
   "outputs": [],
   "source": []
  },
  {
   "cell_type": "markdown",
   "id": "3a6b2c61",
   "metadata": {},
   "source": [
    "## 1D Convolution"
   ]
  },
  {
   "cell_type": "code",
   "execution_count": null,
   "id": "8f57df30",
   "metadata": {},
   "outputs": [],
   "source": []
  },
  {
   "cell_type": "markdown",
   "id": "a545707f",
   "metadata": {},
   "source": [
    "## Prefix Sum"
   ]
  },
  {
   "cell_type": "code",
   "execution_count": null,
   "id": "5ef01981",
   "metadata": {},
   "outputs": [],
   "source": []
  },
  {
   "cell_type": "markdown",
   "id": "07ac45c5",
   "metadata": {},
   "source": [
    "## Axis Sum"
   ]
  },
  {
   "cell_type": "code",
   "execution_count": null,
   "id": "98030e2b",
   "metadata": {},
   "outputs": [],
   "source": []
  }
 ],
 "metadata": {
  "kernelspec": {
   "display_name": "Python 3 (ipykernel)",
   "language": "python",
   "name": "python3"
  },
  "language_info": {
   "codemirror_mode": {
    "name": "ipython",
    "version": 3
   },
   "file_extension": ".py",
   "mimetype": "text/x-python",
   "name": "python",
   "nbconvert_exporter": "python",
   "pygments_lexer": "ipython3",
   "version": "3.10.9"
  }
 },
 "nbformat": 4,
 "nbformat_minor": 5
}
