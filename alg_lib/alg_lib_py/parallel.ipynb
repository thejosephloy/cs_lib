{
 "cells": [
  {
   "cell_type": "markdown",
   "id": "f6cb8014",
   "metadata": {},
   "source": [
    "# Parallel / Multithreading Algorithms"
   ]
  },
  {
   "cell_type": "markdown",
   "id": "7f6e0efc",
   "metadata": {},
   "source": [
    "## Dot Product"
   ]
  },
  {
   "cell_type": "markdown",
   "id": "d6d843f0",
   "metadata": {},
   "source": [
    "## Matrix Vector Product"
   ]
  },
  {
   "cell_type": "code",
   "execution_count": null,
   "id": "c3688548",
   "metadata": {},
   "outputs": [],
   "source": []
  },
  {
   "cell_type": "markdown",
   "id": "0cdfc86f",
   "metadata": {},
   "source": [
    "## Matrix Matrix Product"
   ]
  },
  {
   "cell_type": "code",
   "execution_count": null,
   "id": "69b026b6",
   "metadata": {},
   "outputs": [],
   "source": []
  },
  {
   "cell_type": "markdown",
   "id": "fde7e06d",
   "metadata": {},
   "source": [
    "## Multithreaded Mergesort"
   ]
  },
  {
   "cell_type": "code",
   "execution_count": null,
   "id": "05c472b0",
   "metadata": {},
   "outputs": [],
   "source": []
  }
 ],
 "metadata": {
  "kernelspec": {
   "display_name": "Python 3 (ipykernel)",
   "language": "python",
   "name": "python3"
  },
  "language_info": {
   "codemirror_mode": {
    "name": "ipython",
    "version": 3
   },
   "file_extension": ".py",
   "mimetype": "text/x-python",
   "name": "python",
   "nbconvert_exporter": "python",
   "pygments_lexer": "ipython3",
   "version": "3.10.9"
  }
 },
 "nbformat": 4,
 "nbformat_minor": 5
}
