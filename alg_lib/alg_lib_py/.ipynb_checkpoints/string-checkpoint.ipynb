{
 "cells": [
  {
   "cell_type": "markdown",
   "id": "98d8e4ea",
   "metadata": {},
   "source": [
    "# String Algorithms"
   ]
  },
  {
   "cell_type": "code",
   "execution_count": null,
   "id": "95f5ed67",
   "metadata": {},
   "outputs": [],
   "source": []
  },
  {
   "cell_type": "markdown",
   "id": "d203ad1a",
   "metadata": {},
   "source": [
    "## String Matching\n",
    "\n",
    "### Naive Algorithm"
   ]
  },
  {
   "cell_type": "code",
   "execution_count": null,
   "id": "af76bc6c",
   "metadata": {},
   "outputs": [],
   "source": [
    "def naive_string_matcher(T, P):\n",
    "    return 1\n"
   ]
  },
  {
   "cell_type": "markdown",
   "id": "5781bb91",
   "metadata": {},
   "source": [
    "## Rabin-Karp"
   ]
  },
  {
   "cell_type": "code",
   "execution_count": 1,
   "id": "02d8d1bd",
   "metadata": {},
   "outputs": [],
   "source": [
    "def rabin_karp_matcher(T, P, d, q):\n",
    "    return 1"
   ]
  },
  {
   "cell_type": "markdown",
   "id": "11086e48",
   "metadata": {},
   "source": [
    "## Automata String Matching"
   ]
  },
  {
   "cell_type": "code",
   "execution_count": 3,
   "id": "18d545dc",
   "metadata": {},
   "outputs": [],
   "source": [
    "def finite_automaton_matcher(T, delta, m):\n",
    "    return 1\n",
    "\n",
    "def compute_transition_function(P, Sigma):\n",
    "    return 1"
   ]
  },
  {
   "cell_type": "markdown",
   "id": "0df15907",
   "metadata": {},
   "source": [
    "## Knuth-Morris-Pratt Algorithm"
   ]
  },
  {
   "cell_type": "code",
   "execution_count": 4,
   "id": "2553b136",
   "metadata": {},
   "outputs": [],
   "source": [
    "def KMP_matcher(T, P):\n",
    "    return 1\n",
    "\n",
    "def computer_prefix_function(P):\n",
    "    return 1"
   ]
  },
  {
   "cell_type": "markdown",
   "id": "dce7ea84",
   "metadata": {},
   "source": [
    "## Z algorithm"
   ]
  },
  {
   "cell_type": "code",
   "execution_count": null,
   "id": "1fef54c9",
   "metadata": {},
   "outputs": [],
   "source": []
  },
  {
   "cell_type": "markdown",
   "id": "6c8461e2",
   "metadata": {},
   "source": [
    "## Substring \n",
    "\n",
    "### Suffix Trie"
   ]
  },
  {
   "cell_type": "code",
   "execution_count": null,
   "id": "5c5a78ba",
   "metadata": {},
   "outputs": [],
   "source": []
  }
 ],
 "metadata": {
  "kernelspec": {
   "display_name": "Python 3 (ipykernel)",
   "language": "python",
   "name": "python3"
  },
  "language_info": {
   "codemirror_mode": {
    "name": "ipython",
    "version": 3
   },
   "file_extension": ".py",
   "mimetype": "text/x-python",
   "name": "python",
   "nbconvert_exporter": "python",
   "pygments_lexer": "ipython3",
   "version": "3.9.13"
  }
 },
 "nbformat": 4,
 "nbformat_minor": 5
}
