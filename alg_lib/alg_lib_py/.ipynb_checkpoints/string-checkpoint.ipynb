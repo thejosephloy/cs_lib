{
 "cells": [
  {
   "cell_type": "markdown",
   "id": "98d8e4ea",
   "metadata": {},
   "source": [
    "# String Algorithms"
   ]
  },
  {
   "cell_type": "code",
   "execution_count": null,
   "id": "95f5ed67",
   "metadata": {},
   "outputs": [],
   "source": []
  },
  {
   "cell_type": "markdown",
   "id": "d203ad1a",
   "metadata": {},
   "source": [
    "## String Matching\n",
    "\n",
    "### Naive Algorithm"
   ]
  },
  {
   "cell_type": "code",
   "execution_count": null,
   "id": "af76bc6c",
   "metadata": {},
   "outputs": [],
   "source": [
    "def naive_string_matcher(T, P):\n",
    "    n = len(T)\n",
    "    m = len(P)\n",
    "    for s in range(0, n-m):\n",
    "        if P == T[s:s+m]:\n",
    "            print(\"Pattern appears at shift \", s)\n",
    "\n",
    "with open('hamlet.txt','r') as file:\n",
    "    hamletStr = file.read()\n",
    "naive_string_matcher(hamletStr, \"he\")"
   ]
  },
  {
   "cell_type": "markdown",
   "id": "5781bb91",
   "metadata": {},
   "source": [
    "## Rabin-Karp"
   ]
  },
  {
   "cell_type": "code",
   "execution_count": null,
   "id": "02d8d1bd",
   "metadata": {},
   "outputs": [],
   "source": [
    "def rabin_karp_matcher(T, P, d, q):\n",
    "    n = len(T)\n",
    "    m = len(P)\n",
    "    h = pow(d, m-1) % q\n",
    "    p = 0\n",
    "    t = 0\n",
    "    for i in range(0, m):\n",
    "        p = (d*p + ord(P[i])) % q\n",
    "        t = (d*t + ord(T[i])) % q\n",
    "    for s in range(0, n - m + 1):\n",
    "        if p == t:\n",
    "            if P == T[s:s+m]:\n",
    "                print(\"Pattern occurs with shift \", s)\n",
    "        if s < n - m:\n",
    "            t = (d * (t - ord(T[s]) * h) + ord(T[s+m])) % q\n",
    "                \n",
    "with open('hamlet.txt','r') as file:\n",
    "    hamletStr = file.read()\n",
    "rabin_karp_matcher(\"Hello Hello\", \"ll\", 256, 101)"
   ]
  },
  {
   "cell_type": "markdown",
   "id": "11086e48",
   "metadata": {},
   "source": [
    "## Automata String Matching"
   ]
  },
  {
   "cell_type": "code",
   "execution_count": null,
   "id": "18d545dc",
   "metadata": {},
   "outputs": [],
   "source": [
    "def finite_automaton_matcher(T, delta, m):\n",
    "    return 1\n",
    "\n",
    "def compute_transition_function(P, Sigma):\n",
    "    m = len(P)\n",
    "    for q in range(0, m + 1):\n",
    "        for a in Sigma:\n",
    "            k = min(m+1, q+2)\n",
    "            while (1):\n",
    "                k = k -1\n",
    "            \n",
    "    return 1"
   ]
  },
  {
   "cell_type": "markdown",
   "id": "0df15907",
   "metadata": {},
   "source": [
    "## Knuth-Morris-Pratt Algorithm"
   ]
  },
  {
   "cell_type": "code",
   "execution_count": null,
   "id": "2553b136",
   "metadata": {},
   "outputs": [
    {
     "name": "stdout",
     "output_type": "stream",
     "text": [
      "0\n",
      "0\n",
      "1\n",
      "0\n",
      "2\n",
      "0\n",
      "3\n",
      "1\n",
      "Pattern occurs with shift  2\n",
      "4\n",
      "1\n"
     ]
    }
   ],
   "source": [
    "def KMP_matcher(T, P):\n",
    "    n = len(T)\n",
    "    m = len(P)\n",
    "    pi = compute_prefix_function(P)\n",
    "    q = 0\n",
    "    for i in range(0, n):\n",
    "        print(i)\n",
    "        print(q)\n",
    "        while (q > 0 and P[q] != T[i]):\n",
    "            q = pi[q]\n",
    "        if P[q] == T[i]:\n",
    "            q = q + 1\n",
    "        if q == m:\n",
    "            print(\"Pattern occurs with shift \", i - m + 1)\n",
    "            q = pi[q-1]\n",
    "\n",
    "def compute_prefix_function(P):\n",
    "    m = len(P)\n",
    "    pi = [0] * m\n",
    "    k = 0\n",
    "    for q in range(1, m):\n",
    "        while k > 0 and P[k] != P[q-1]:\n",
    "            k = pi[k]\n",
    "        if P[k] == P[q]:\n",
    "            k = k + 1\n",
    "        pi[q] = k\n",
    "    return pi\n",
    "\n",
    "KMP_matcher(\"Hello Hello\", \"ll\")"
   ]
  },
  {
   "cell_type": "markdown",
   "id": "dce7ea84",
   "metadata": {},
   "source": [
    "## Z algorithm"
   ]
  },
  {
   "cell_type": "code",
   "execution_count": null,
   "id": "1fef54c9",
   "metadata": {},
   "outputs": [],
   "source": []
  },
  {
   "cell_type": "markdown",
   "id": "6c8461e2",
   "metadata": {},
   "source": [
    "## Substring \n",
    "\n",
    "### Suffix Trie"
   ]
  },
  {
   "cell_type": "code",
   "execution_count": null,
   "id": "5c5a78ba",
   "metadata": {},
   "outputs": [],
   "source": []
  }
 ],
 "metadata": {
  "kernelspec": {
   "display_name": "Python 3 (ipykernel)",
   "language": "python",
   "name": "python3"
  },
  "language_info": {
   "codemirror_mode": {
    "name": "ipython",
    "version": 3
   },
   "file_extension": ".py",
   "mimetype": "text/x-python",
   "name": "python",
   "nbconvert_exporter": "python",
   "pygments_lexer": "ipython3",
   "version": "3.9.13"
  }
 },
 "nbformat": 4,
 "nbformat_minor": 5
}
