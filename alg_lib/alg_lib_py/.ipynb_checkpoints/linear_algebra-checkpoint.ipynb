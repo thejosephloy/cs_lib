{
 "cells": [
  {
   "cell_type": "markdown",
   "id": "f6cb8014",
   "metadata": {},
   "source": [
    "# Linear Algebra\n",
    "https://github.com/srush/GPU-Puzzles\n",
    "\n",
    "## Dot Product\n",
    "\n",
    "## Vector Norm\n",
    "\n",
    "## Matrix Vector Product\n",
    "\n",
    "## Matrix Norm\n",
    "\n",
    "## Matrix Matrix Product\n",
    "\n",
    "## Convolution\n",
    "\n",
    "## FFT\n",
    "\n",
    "## Multiply Accumulate\n",
    "\n",
    "## Scalar Vector Product\n",
    "\n",
    "## Scalar Matrix Product\n",
    "\n",
    "## Scalar Vector Addition\n",
    "\n",
    "## Scalar Matrix Addition"
   ]
  },
  {
   "cell_type": "code",
   "execution_count": 14,
   "id": "f67238ed",
   "metadata": {},
   "outputs": [],
   "source": [
    "import numpy as np\n",
    "import scipy as sp\n",
    "import pandas as pd\n",
    "import sys\n",
    "from timeit import default_timer as timer\n",
    "import matplotlib as mpl\n",
    "import matplotlib.pyplot as plt\n",
    "import math\n",
    "\n",
    "\n",
    "INTMAX = 2147483647\n",
    "\n",
    "a1 = np.array([1, 2, 3])\n",
    "a2 = np.array([4, 5, 6])\n",
    "\n",
    "m1 = np.matrix([[1, 2, 3], [4, 5, 6], [7, 8, 9]])\n",
    "m2 = np.matrix([[1, 0, 0], [0, 1, 0], [0, 0, 1]])"
   ]
  },
  {
   "cell_type": "markdown",
   "id": "7f6e0efc",
   "metadata": {},
   "source": [
    "## Dot Product"
   ]
  },
  {
   "cell_type": "code",
   "execution_count": 6,
   "id": "23b294ad",
   "metadata": {},
   "outputs": [
    {
     "name": "stdout",
     "output_type": "stream",
     "text": [
      "[1 2 3]\n",
      "[4 5 6]\n",
      "32\n"
     ]
    }
   ],
   "source": [
    "print(a1)\n",
    "print(a2)\n",
    "dot_result = np.dot(a1, a2)\n",
    "print(dot_result)"
   ]
  },
  {
   "cell_type": "markdown",
   "id": "d6d843f0",
   "metadata": {},
   "source": [
    "## Matrix Vector Product"
   ]
  },
  {
   "cell_type": "code",
   "execution_count": 8,
   "id": "c3688548",
   "metadata": {},
   "outputs": [
    {
     "name": "stdout",
     "output_type": "stream",
     "text": [
      "[[1 0 0]\n",
      " [0 1 0]\n",
      " [0 0 1]]\n",
      "[1 2 3]\n",
      "[[1 2 3]]\n"
     ]
    }
   ],
   "source": [
    "print(m2)\n",
    "print(a1)\n",
    "mv_prod = np.dot(m2, a1)\n",
    "print(mv_prod)"
   ]
  },
  {
   "cell_type": "markdown",
   "id": "0cdfc86f",
   "metadata": {},
   "source": [
    "## Matrix Matrix Product"
   ]
  },
  {
   "cell_type": "code",
   "execution_count": 9,
   "id": "69b026b6",
   "metadata": {},
   "outputs": [
    {
     "name": "stdout",
     "output_type": "stream",
     "text": [
      "[[1 2 3]\n",
      " [4 5 6]\n",
      " [7 8 9]]\n",
      "[[1 0 0]\n",
      " [0 1 0]\n",
      " [0 0 1]]\n",
      "[[1 2 3]\n",
      " [4 5 6]\n",
      " [7 8 9]]\n"
     ]
    }
   ],
   "source": [
    "print(m1)\n",
    "print(m2)\n",
    "mm_prod = np.matmul(m1, m2)\n",
    "print(mm_prod)"
   ]
  },
  {
   "cell_type": "markdown",
   "id": "bcdffeee",
   "metadata": {},
   "source": [
    "##  Map / Zip / Guard"
   ]
  },
  {
   "cell_type": "code",
   "execution_count": 11,
   "id": "4dc4a2c0",
   "metadata": {},
   "outputs": [
    {
     "name": "stdout",
     "output_type": "stream",
     "text": [
      "[1 2 3]\n",
      "[11 12 13]\n"
     ]
    }
   ],
   "source": [
    "mzg_result = a1 + 10\n",
    "print(a1)\n",
    "print(mzg_result)"
   ]
  },
  {
   "cell_type": "markdown",
   "id": "f590d4d9",
   "metadata": {},
   "source": [
    "## 2D Map"
   ]
  },
  {
   "cell_type": "code",
   "execution_count": 12,
   "id": "9dada58f",
   "metadata": {},
   "outputs": [
    {
     "name": "stdout",
     "output_type": "stream",
     "text": [
      "[[1 2 3]\n",
      " [4 5 6]\n",
      " [7 8 9]]\n",
      "[[11 12 13]\n",
      " [14 15 16]\n",
      " [17 18 19]]\n"
     ]
    }
   ],
   "source": [
    "m2d_result = m1 + 10\n",
    "print(m1)\n",
    "print(m2d_result)"
   ]
  },
  {
   "cell_type": "markdown",
   "id": "d665e293",
   "metadata": {},
   "source": [
    "## Broadcast"
   ]
  },
  {
   "cell_type": "code",
   "execution_count": 15,
   "id": "07008f48",
   "metadata": {},
   "outputs": [
    {
     "name": "stdout",
     "output_type": "stream",
     "text": [
      "[1 2 3]\n",
      "[4 5 6]\n",
      "[5 7 9]\n"
     ]
    }
   ],
   "source": [
    "broad_result = a1 + np.transpose(a2)\n",
    "print(a1)\n",
    "print(a2)\n",
    "print(broad_result)"
   ]
  },
  {
   "cell_type": "markdown",
   "id": "799ec9a2",
   "metadata": {},
   "source": [
    "## Pooling"
   ]
  },
  {
   "cell_type": "code",
   "execution_count": 23,
   "id": "ecd1f028",
   "metadata": {},
   "outputs": [
    {
     "name": "stdout",
     "output_type": "stream",
     "text": [
      "[1 2 3 4 5 6 7 8 9]\n",
      "[ 1.  3.  6.  9. 12. 15. 18. 21. 24.]\n"
     ]
    }
   ],
   "source": [
    "a_test = np.array([1, 2, 3, 4, 5, 6, 7, 8, 9])\n",
    "pool_result = np.zeros(a_test.shape)\n",
    "for i in range(0, len(a_test)):\n",
    "    pool_result[i] = a_test[max(i - 2, 0) : i + 1].sum()\n",
    "print(a_test)\n",
    "print(pool_result)"
   ]
  },
  {
   "cell_type": "markdown",
   "id": "ce37e458",
   "metadata": {},
   "source": [
    "## 1D Convolution"
   ]
  },
  {
   "cell_type": "code",
   "execution_count": 16,
   "id": "55fc37c7",
   "metadata": {},
   "outputs": [
    {
     "name": "stdout",
     "output_type": "stream",
     "text": [
      "[1 2 3]\n",
      "[4 5 6]\n",
      "[ 4 13 28 27 18]\n"
     ]
    }
   ],
   "source": [
    "conv_result = np.convolve(a1, a2)\n",
    "print(a1)\n",
    "print(a2)\n",
    "print(conv_result)"
   ]
  },
  {
   "cell_type": "markdown",
   "id": "7c73106f",
   "metadata": {},
   "source": [
    "## 2D Conv"
   ]
  },
  {
   "cell_type": "code",
   "execution_count": 29,
   "id": "ac870f2e",
   "metadata": {},
   "outputs": [
    {
     "name": "stdout",
     "output_type": "stream",
     "text": [
      "[[ 2  3  5]\n",
      " [ 8  9 11]\n",
      " [14 15 17]]\n"
     ]
    }
   ],
   "source": [
    "conv_kernel = np.matrix([[1, 1], [0, 0]])\n",
    "conv2d_result = sp.signal.convolve2d(m1, conv_kernel, boundary='symm')\n",
    "conv2d_result = conv2d_result[0:3, 0:3]\n",
    "print(conv2d_result)"
   ]
  },
  {
   "cell_type": "markdown",
   "id": "6e610c81",
   "metadata": {},
   "source": [
    "## Axis Sum"
   ]
  },
  {
   "cell_type": "code",
   "execution_count": 19,
   "id": "69008a3d",
   "metadata": {},
   "outputs": [
    {
     "name": "stdout",
     "output_type": "stream",
     "text": [
      "[[1 2 3]\n",
      " [4 5 6]\n",
      " [7 8 9]]\n",
      "[[12 15 18]]\n",
      "[[ 6]\n",
      " [15]\n",
      " [24]]\n"
     ]
    }
   ],
   "source": [
    "print(m1)\n",
    "print(m1.sum(axis=0))\n",
    "print(m1.sum(axis=1))"
   ]
  },
  {
   "cell_type": "code",
   "execution_count": null,
   "id": "a11c904f",
   "metadata": {},
   "outputs": [],
   "source": []
  }
 ],
 "metadata": {
  "kernelspec": {
   "display_name": "Python 3 (ipykernel)",
   "language": "python",
   "name": "python3"
  },
  "language_info": {
   "codemirror_mode": {
    "name": "ipython",
    "version": 3
   },
   "file_extension": ".py",
   "mimetype": "text/x-python",
   "name": "python",
   "nbconvert_exporter": "python",
   "pygments_lexer": "ipython3",
   "version": "3.9.13"
  }
 },
 "nbformat": 4,
 "nbformat_minor": 5
}
