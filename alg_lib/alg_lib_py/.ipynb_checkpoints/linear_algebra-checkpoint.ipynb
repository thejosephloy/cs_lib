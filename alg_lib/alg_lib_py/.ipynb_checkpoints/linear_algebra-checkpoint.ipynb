{
 "cells": [
  {
   "cell_type": "markdown",
   "id": "f6cb8014",
   "metadata": {},
   "source": [
    "# Linear Algebra\n",
    "https://github.com/srush/GPU-Puzzles"
   ]
  },
  {
   "cell_type": "code",
   "execution_count": 1,
   "id": "d68f9dc6",
   "metadata": {},
   "outputs": [],
   "source": [
    "import numpy as np\n",
    "import scipy as sp\n",
    "import pandas as pd\n",
    "import sys\n",
    "from timeit import default_timer as timer\n",
    "import matplotlib as mpl\n",
    "import matplotlib.pyplot as plt\n",
    "import math\n",
    "\n",
    "\n",
    "INTMAX = 2147483647"
   ]
  },
  {
   "cell_type": "markdown",
   "id": "7f6e0efc",
   "metadata": {},
   "source": [
    "## Dot Product"
   ]
  },
  {
   "cell_type": "code",
   "execution_count": null,
   "id": "23b294ad",
   "metadata": {},
   "outputs": [],
   "source": []
  },
  {
   "cell_type": "markdown",
   "id": "d6d843f0",
   "metadata": {},
   "source": [
    "## Matrix Vector Product"
   ]
  },
  {
   "cell_type": "code",
   "execution_count": null,
   "id": "c3688548",
   "metadata": {},
   "outputs": [],
   "source": []
  },
  {
   "cell_type": "markdown",
   "id": "0cdfc86f",
   "metadata": {},
   "source": [
    "## Matrix Matrix Product"
   ]
  },
  {
   "cell_type": "code",
   "execution_count": null,
   "id": "69b026b6",
   "metadata": {},
   "outputs": [],
   "source": []
  },
  {
   "cell_type": "markdown",
   "id": "fde7e06d",
   "metadata": {},
   "source": [
    "## Multithreaded Mergesort"
   ]
  },
  {
   "cell_type": "markdown",
   "id": "bcdffeee",
   "metadata": {},
   "source": [
    "## Map"
   ]
  },
  {
   "cell_type": "code",
   "execution_count": null,
   "id": "4dc4a2c0",
   "metadata": {},
   "outputs": [],
   "source": []
  },
  {
   "cell_type": "markdown",
   "id": "bd287a3e",
   "metadata": {},
   "source": [
    "## Zip"
   ]
  },
  {
   "cell_type": "code",
   "execution_count": null,
   "id": "cf54e451",
   "metadata": {},
   "outputs": [],
   "source": []
  },
  {
   "cell_type": "markdown",
   "id": "ea49a703",
   "metadata": {},
   "source": [
    "## Guard"
   ]
  },
  {
   "cell_type": "code",
   "execution_count": null,
   "id": "8fc80fb5",
   "metadata": {},
   "outputs": [],
   "source": []
  },
  {
   "cell_type": "markdown",
   "id": "f590d4d9",
   "metadata": {},
   "source": [
    "## 2D Map"
   ]
  },
  {
   "cell_type": "code",
   "execution_count": null,
   "id": "9dada58f",
   "metadata": {},
   "outputs": [],
   "source": []
  },
  {
   "cell_type": "markdown",
   "id": "d665e293",
   "metadata": {},
   "source": [
    "## Broadcast"
   ]
  },
  {
   "cell_type": "code",
   "execution_count": null,
   "id": "07008f48",
   "metadata": {},
   "outputs": [],
   "source": []
  },
  {
   "cell_type": "markdown",
   "id": "c49f7ebe",
   "metadata": {},
   "source": [
    "## Blocks"
   ]
  },
  {
   "cell_type": "code",
   "execution_count": null,
   "id": "b16b2246",
   "metadata": {},
   "outputs": [],
   "source": []
  },
  {
   "cell_type": "markdown",
   "id": "468390f6",
   "metadata": {},
   "source": [
    "## 2D Blocks"
   ]
  },
  {
   "cell_type": "code",
   "execution_count": null,
   "id": "7be58b16",
   "metadata": {},
   "outputs": [],
   "source": []
  },
  {
   "cell_type": "markdown",
   "id": "bc83c810",
   "metadata": {},
   "source": [
    "## Shared"
   ]
  },
  {
   "cell_type": "code",
   "execution_count": null,
   "id": "ddee7490",
   "metadata": {},
   "outputs": [],
   "source": []
  },
  {
   "cell_type": "markdown",
   "id": "799ec9a2",
   "metadata": {},
   "source": [
    "## Pooling"
   ]
  },
  {
   "cell_type": "code",
   "execution_count": null,
   "id": "ecd1f028",
   "metadata": {},
   "outputs": [],
   "source": []
  },
  {
   "cell_type": "markdown",
   "id": "ce37e458",
   "metadata": {},
   "source": [
    "## 1D Convolution"
   ]
  },
  {
   "cell_type": "code",
   "execution_count": null,
   "id": "55fc37c7",
   "metadata": {},
   "outputs": [],
   "source": []
  },
  {
   "cell_type": "markdown",
   "id": "b598daea",
   "metadata": {},
   "source": [
    "## Prefix Sum"
   ]
  },
  {
   "cell_type": "code",
   "execution_count": null,
   "id": "3f93b0cd",
   "metadata": {},
   "outputs": [],
   "source": []
  },
  {
   "cell_type": "markdown",
   "id": "6e610c81",
   "metadata": {},
   "source": [
    "## Axis Sum"
   ]
  },
  {
   "cell_type": "code",
   "execution_count": null,
   "id": "69008a3d",
   "metadata": {},
   "outputs": [],
   "source": []
  }
 ],
 "metadata": {
  "kernelspec": {
   "display_name": "Python 3 (ipykernel)",
   "language": "python",
   "name": "python3"
  },
  "language_info": {
   "codemirror_mode": {
    "name": "ipython",
    "version": 3
   },
   "file_extension": ".py",
   "mimetype": "text/x-python",
   "name": "python",
   "nbconvert_exporter": "python",
   "pygments_lexer": "ipython3",
   "version": "3.10.9"
  }
 },
 "nbformat": 4,
 "nbformat_minor": 5
}
