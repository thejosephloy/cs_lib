{
 "cells": [
  {
   "cell_type": "code",
   "execution_count": 15,
   "id": "d3ef8644",
   "metadata": {},
   "outputs": [],
   "source": [
    "class Stack:\n",
    "    \n",
    "    def __init__(self, x = None):\n",
    "        if (x == None):\n",
    "            self.top = 0\n",
    "            self.val = [0]\n",
    "        else:\n",
    "            self.top = 1\n",
    "            self.val = [0, x]\n",
    "        \n",
    "    def pop(self):\n",
    "        if (self.is_empty() == True):\n",
    "            assert(\"Underflow\")\n",
    "        else:\n",
    "            self.top = self.top - 1\n",
    "            return self.val[self.top + 1]\n",
    "        \n",
    "    def peek(self):\n",
    "        return self.val[self.top]\n",
    "    \n",
    "    def push(self, x):\n",
    "        self.top = self.top + 1\n",
    "        self.val.append(x)\n",
    "        \n",
    "    def is_empty(self):\n",
    "        if (self.top == 0):\n",
    "            return True\n",
    "        else:\n",
    "            return False;"
   ]
  },
  {
   "cell_type": "code",
   "execution_count": 44,
   "id": "90569935",
   "metadata": {},
   "outputs": [],
   "source": [
    "class Queue:\n",
    "    \n",
    "    def __init__(self, x = None):\n",
    "        \n",
    "        if (x == None):\n",
    "            self.head = 1\n",
    "            self.tail = 1\n",
    "            self.length = 0\n",
    "            self.val = [0]\n",
    "        else:\n",
    "            self.head = 1\n",
    "            self.tail = 2\n",
    "            self.length = 1\n",
    "            self.val = [0, x]\n",
    "        \n",
    "    def enqueue(self, x):\n",
    "        self.val.append(x)\n",
    "        self.tail += 1\n",
    "        self.length += 1\n",
    "            \n",
    "    def dequeue(self):\n",
    "        if (self.is_empty()):\n",
    "            raise Exception(\"underflow\")\n",
    "        x = self.val[self.head]\n",
    "        self.head += 1\n",
    "        self.length -= 1\n",
    "        return x\n",
    "        \n",
    "    def is_empty(self):\n",
    "        if self.length == 0:\n",
    "            return True\n",
    "        else:\n",
    "            return False"
   ]
  },
  {
   "cell_type": "code",
   "execution_count": 45,
   "id": "2a78aba4",
   "metadata": {},
   "outputs": [
    {
     "name": "stdout",
     "output_type": "stream",
     "text": [
      "True\n",
      "2\n",
      "2\n",
      "1\n",
      "False\n"
     ]
    }
   ],
   "source": [
    "s1 = Stack()\n",
    "print(s1.is_empty())\n",
    "s1.push(0)\n",
    "s1.push(1)\n",
    "s1.push(2)\n",
    "print(s1.peek())\n",
    "print(s1.pop())\n",
    "print(s1.peek())\n",
    "print(s1.is_empty())"
   ]
  },
  {
   "cell_type": "code",
   "execution_count": 46,
   "id": "82955610",
   "metadata": {},
   "outputs": [
    {
     "name": "stdout",
     "output_type": "stream",
     "text": [
      "True\n",
      "0\n",
      "1\n",
      "2\n"
     ]
    },
    {
     "ename": "Exception",
     "evalue": "underflow",
     "output_type": "error",
     "traceback": [
      "\u001b[0;31m---------------------------------------------------------------------------\u001b[0m",
      "\u001b[0;31mException\u001b[0m                                 Traceback (most recent call last)",
      "\u001b[0;32m/tmp/ipykernel_45712/2497386305.py\u001b[0m in \u001b[0;36m<module>\u001b[0;34m\u001b[0m\n\u001b[1;32m      7\u001b[0m \u001b[0mprint\u001b[0m\u001b[0;34m(\u001b[0m\u001b[0mq1\u001b[0m\u001b[0;34m.\u001b[0m\u001b[0mdequeue\u001b[0m\u001b[0;34m(\u001b[0m\u001b[0;34m)\u001b[0m\u001b[0;34m)\u001b[0m\u001b[0;34m\u001b[0m\u001b[0;34m\u001b[0m\u001b[0m\n\u001b[1;32m      8\u001b[0m \u001b[0mprint\u001b[0m\u001b[0;34m(\u001b[0m\u001b[0mq1\u001b[0m\u001b[0;34m.\u001b[0m\u001b[0mdequeue\u001b[0m\u001b[0;34m(\u001b[0m\u001b[0;34m)\u001b[0m\u001b[0;34m)\u001b[0m\u001b[0;34m\u001b[0m\u001b[0;34m\u001b[0m\u001b[0m\n\u001b[0;32m----> 9\u001b[0;31m \u001b[0mprint\u001b[0m\u001b[0;34m(\u001b[0m\u001b[0mq1\u001b[0m\u001b[0;34m.\u001b[0m\u001b[0mdequeue\u001b[0m\u001b[0;34m(\u001b[0m\u001b[0;34m)\u001b[0m\u001b[0;34m)\u001b[0m\u001b[0;34m\u001b[0m\u001b[0;34m\u001b[0m\u001b[0m\n\u001b[0m",
      "\u001b[0;32m/tmp/ipykernel_45712/3014267965.py\u001b[0m in \u001b[0;36mdequeue\u001b[0;34m(self)\u001b[0m\n\u001b[1;32m     21\u001b[0m     \u001b[0;32mdef\u001b[0m \u001b[0mdequeue\u001b[0m\u001b[0;34m(\u001b[0m\u001b[0mself\u001b[0m\u001b[0;34m)\u001b[0m\u001b[0;34m:\u001b[0m\u001b[0;34m\u001b[0m\u001b[0;34m\u001b[0m\u001b[0m\n\u001b[1;32m     22\u001b[0m         \u001b[0;32mif\u001b[0m \u001b[0;34m(\u001b[0m\u001b[0mself\u001b[0m\u001b[0;34m.\u001b[0m\u001b[0mis_empty\u001b[0m\u001b[0;34m(\u001b[0m\u001b[0;34m)\u001b[0m\u001b[0;34m)\u001b[0m\u001b[0;34m:\u001b[0m\u001b[0;34m\u001b[0m\u001b[0;34m\u001b[0m\u001b[0m\n\u001b[0;32m---> 23\u001b[0;31m             \u001b[0;32mraise\u001b[0m \u001b[0mException\u001b[0m\u001b[0;34m(\u001b[0m\u001b[0;34m\"underflow\"\u001b[0m\u001b[0;34m)\u001b[0m\u001b[0;34m\u001b[0m\u001b[0;34m\u001b[0m\u001b[0m\n\u001b[0m\u001b[1;32m     24\u001b[0m         \u001b[0mx\u001b[0m \u001b[0;34m=\u001b[0m \u001b[0mself\u001b[0m\u001b[0;34m.\u001b[0m\u001b[0mval\u001b[0m\u001b[0;34m[\u001b[0m\u001b[0mself\u001b[0m\u001b[0;34m.\u001b[0m\u001b[0mhead\u001b[0m\u001b[0;34m]\u001b[0m\u001b[0;34m\u001b[0m\u001b[0;34m\u001b[0m\u001b[0m\n\u001b[1;32m     25\u001b[0m         \u001b[0mself\u001b[0m\u001b[0;34m.\u001b[0m\u001b[0mhead\u001b[0m \u001b[0;34m+=\u001b[0m \u001b[0;36m1\u001b[0m\u001b[0;34m\u001b[0m\u001b[0;34m\u001b[0m\u001b[0m\n",
      "\u001b[0;31mException\u001b[0m: underflow"
     ]
    }
   ],
   "source": [
    "q1 = Queue()\n",
    "print(q1.is_empty())\n",
    "q1.enqueue(0)\n",
    "q1.enqueue(1)\n",
    "q1.enqueue(2)\n",
    "print(q1.dequeue())\n",
    "print(q1.dequeue())\n",
    "print(q1.dequeue())\n",
    "print(q1.dequeue())"
   ]
  },
  {
   "cell_type": "code",
   "execution_count": null,
   "id": "a2c91ec8",
   "metadata": {},
   "outputs": [],
   "source": []
  }
 ],
 "metadata": {
  "kernelspec": {
   "display_name": "Python 3 (ipykernel)",
   "language": "python",
   "name": "python3"
  },
  "language_info": {
   "codemirror_mode": {
    "name": "ipython",
    "version": 3
   },
   "file_extension": ".py",
   "mimetype": "text/x-python",
   "name": "python",
   "nbconvert_exporter": "python",
   "pygments_lexer": "ipython3",
   "version": "3.9.13"
  }
 },
 "nbformat": 4,
 "nbformat_minor": 5
}
