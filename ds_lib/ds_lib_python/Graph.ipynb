{
 "cells": [
  {
   "cell_type": "markdown",
   "id": "a4a4d4e6",
   "metadata": {},
   "source": [
    "# Graphs\n",
    "\n",
    "## Adjacent List Graph"
   ]
  },
  {
   "cell_type": "code",
   "execution_count": 74,
   "id": "fdff7243",
   "metadata": {},
   "outputs": [
    {
     "name": "stdout",
     "output_type": "stream",
     "text": [
      "{}\n",
      "{0: [(1, 5)], 1: []}\n"
     ]
    }
   ],
   "source": [
    "class Graph:\n",
    "    def __init__(self, isDirected=False, isWeighted=False):\n",
    "        self.adjList = {}\n",
    "        self.isDirected = isDirected\n",
    "        self.isWeighted = isWeighted\n",
    "\n",
    "    def addEdge(self, x, y, weight=1):\n",
    "        if x not in self.adjList:\n",
    "            self.adjList[x] = []\n",
    "        if y not in self.adjList:\n",
    "            self.adjList[y] = []\n",
    "\n",
    "        self.adjList[x].append((y, weight))\n",
    "        if not self.isDirected:\n",
    "            self.adjList[y].append((x, weight))\n",
    "\n",
    "    def isConnected(self, x, y):\n",
    "        if x in self.adjList and y in self.adjList:\n",
    "            for neighbor, _ in self.adjList[x]:\n",
    "                if neighbor == y:\n",
    "                    return True\n",
    "        return False\n",
    "\n",
    "    def getWeight(self, x, y):\n",
    "        if x in self.adjList and y in self.adjList:\n",
    "            for neighbor, weight in self.adjList[x]:\n",
    "                if neighbor == y:\n",
    "                    return weight\n",
    "        return None\n",
    "\n",
    "    def printList(self):\n",
    "        print(self.adjList)\n",
    "       \n",
    "\n",
    "g1 = Graph(True, True)\n",
    "g1.printList()\n",
    "g1.addEdge(0, 1, 5)\n",
    "g1.printList()"
   ]
  },
  {
   "cell_type": "markdown",
   "id": "171e32fe",
   "metadata": {},
   "source": [
    "## Adjacent Matrix Graph"
   ]
  },
  {
   "cell_type": "code",
   "execution_count": 77,
   "id": "f69c7300",
   "metadata": {},
   "outputs": [
    {
     "name": "stdout",
     "output_type": "stream",
     "text": [
      "Graph is\n",
      "Node 0 : 0 0 0 0 0 \n",
      "\n",
      "Node 1 : 0 0 0 0 0 \n",
      "\n",
      "Node 2 : 0 0 0 0 0 \n",
      "\n",
      "Node 3 : 0 0 0 0 0 \n",
      "\n",
      "Node 4 : 0 0 0 0 0 \n",
      "\n",
      "Graph is\n",
      "Node 0 : 0 5 0 0 0 \n",
      "\n",
      "Node 1 : 5 0 0 0 0 \n",
      "\n",
      "Node 2 : 0 0 0 0 0 \n",
      "\n",
      "Node 3 : 0 0 0 0 0 \n",
      "\n",
      "Node 4 : 0 0 0 0 0 \n",
      "\n",
      "5\n"
     ]
    }
   ],
   "source": [
    "class Graph:\n",
    "    def __init__(self, numNodes, isDirected=False, isWeighted=False):\n",
    "        self.adjMat = [[0]*numNodes for _ in range(numNodes)]\n",
    "        self.numNodes = numNodes\n",
    "        self.isDirected = isDirected\n",
    "        self.isWeighted = isWeighted\n",
    "        \n",
    "    def addEdge(self, x, y, weight=1):\n",
    "        if (self.isDirected):\n",
    "            self.adjMat[x][y] = weight\n",
    "        else:\n",
    "            self.adjMat[x][y] = weight\n",
    "            self.adjMat[y][x] = weight\n",
    "    \n",
    "    def isConnected(self, x, y):\n",
    "        if self.adjMat[x][y] != 0: return True\n",
    "        else: return False\n",
    "    \n",
    "    def printMatrix(self):\n",
    "        print(\"Graph is\")\n",
    "        for i in range(self.numNodes):\n",
    "            print(\"Node\", i, \": \", end=\"\")\n",
    "            for j in range(self.numNodes):\n",
    "                print(self.adjMat[i][j], end=\" \")\n",
    "            print(\"\\n\")\n",
    "    \n",
    "    def getWeight(self, x, y):\n",
    "        return self.adjMat[x][y]\n",
    "        \n",
    "\n",
    "g1 = Graph(5, False, True)\n",
    "g1.printMatrix()\n",
    "g1.addEdge(0, 1, 5)\n",
    "g1.printMatrix()\n",
    "print(g1.getWeight(1, 0))"
   ]
  },
  {
   "cell_type": "code",
   "execution_count": null,
   "id": "48e199a6",
   "metadata": {},
   "outputs": [],
   "source": []
  }
 ],
 "metadata": {
  "kernelspec": {
   "display_name": "Python 3 (ipykernel)",
   "language": "python",
   "name": "python3"
  },
  "language_info": {
   "codemirror_mode": {
    "name": "ipython",
    "version": 3
   },
   "file_extension": ".py",
   "mimetype": "text/x-python",
   "name": "python",
   "nbconvert_exporter": "python",
   "pygments_lexer": "ipython3",
   "version": "3.9.13"
  }
 },
 "nbformat": 4,
 "nbformat_minor": 5
}
