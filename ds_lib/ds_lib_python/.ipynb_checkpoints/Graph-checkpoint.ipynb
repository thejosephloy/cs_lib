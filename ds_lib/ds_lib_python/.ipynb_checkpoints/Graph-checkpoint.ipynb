{
 "cells": [
  {
   "cell_type": "markdown",
   "id": "a4a4d4e6",
   "metadata": {},
   "source": [
    "# Graphs\n",
    "\n",
    "## Adjacent List Graph"
   ]
  },
  {
   "cell_type": "code",
   "execution_count": null,
   "id": "fdff7243",
   "metadata": {},
   "outputs": [],
   "source": []
  },
  {
   "cell_type": "markdown",
   "id": "171e32fe",
   "metadata": {},
   "source": [
    "## Adjacent Matrix Graph"
   ]
  },
  {
   "cell_type": "code",
   "execution_count": null,
   "id": "f69c7300",
   "metadata": {},
   "outputs": [],
   "source": []
  }
 ],
 "metadata": {
  "kernelspec": {
   "display_name": "Python 3 (ipykernel)",
   "language": "python",
   "name": "python3"
  },
  "language_info": {
   "codemirror_mode": {
    "name": "ipython",
    "version": 3
   },
   "file_extension": ".py",
   "mimetype": "text/x-python",
   "name": "python",
   "nbconvert_exporter": "python",
   "pygments_lexer": "ipython3",
   "version": "3.9.13"
  }
 },
 "nbformat": 4,
 "nbformat_minor": 5
}
