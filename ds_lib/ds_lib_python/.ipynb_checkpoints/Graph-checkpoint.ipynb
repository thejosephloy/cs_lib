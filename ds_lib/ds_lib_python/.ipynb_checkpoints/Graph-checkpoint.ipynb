{
 "cells": [
  {
   "cell_type": "markdown",
   "id": "a4a4d4e6",
   "metadata": {},
   "source": [
    "# Graphs\n",
    "\n",
    "## Adjacent List Graph"
   ]
  },
  {
   "cell_type": "code",
   "execution_count": 65,
   "id": "fdff7243",
   "metadata": {},
   "outputs": [
    {
     "name": "stdout",
     "output_type": "stream",
     "text": [
      "[1]\n",
      "[2]\n",
      "5\n",
      "3\n"
     ]
    }
   ],
   "source": [
    "class Graph:\n",
    "    def __init__(self):\n",
    "        self.adjacency_list = {}\n",
    "\n",
    "    def add_vertex(self, vertex):\n",
    "        self.adjacency_list[vertex] = {}\n",
    "\n",
    "    def add_edge(self, vertex1, vertex2, weight):\n",
    "        self.adjacency_list[vertex1][vertex2] = weight\n",
    "\n",
    "    def get_adjacent_vertices(self, vertex):\n",
    "        return list(self.adjacency_list[vertex].keys())\n",
    "\n",
    "    def get_weight(self, vertex1, vertex2):\n",
    "        return self.adjacency_list[vertex1][vertex2]\n",
    "\n",
    "graph = Graph()\n",
    "graph.add_vertex(0)\n",
    "graph.add_vertex(1)\n",
    "graph.add_vertex(2)\n",
    "graph.add_edge(0, 1, 5)\n",
    "graph.add_edge(1, 2, 3)\n",
    "\n",
    "print(graph.get_adjacent_vertices(0))  # Output: ['B']\n",
    "print(graph.get_adjacent_vertices(1))  # Output: ['C']\n",
    "print(graph.get_weight(0, 1))  # Output: 5\n",
    "print(graph.get_weight(1, 2))  # Output: 3"
   ]
  },
  {
   "cell_type": "markdown",
   "id": "171e32fe",
   "metadata": {},
   "source": [
    "## Adjacent Matrix Graph"
   ]
  },
  {
   "cell_type": "code",
   "execution_count": 55,
   "id": "f69c7300",
   "metadata": {},
   "outputs": [
    {
     "name": "stdout",
     "output_type": "stream",
     "text": [
      "Graph is\n",
      "Node 0 : 0 0 0 0 0 \n",
      "\n",
      "Node 1 : 0 0 0 0 0 \n",
      "\n",
      "Node 2 : 0 0 0 0 0 \n",
      "\n",
      "Node 3 : 0 0 0 0 0 \n",
      "\n",
      "Node 4 : 0 0 0 0 0 \n",
      "\n",
      "Graph is\n",
      "Node 0 : 0 5 0 0 0 \n",
      "\n",
      "Node 1 : 5 0 0 0 0 \n",
      "\n",
      "Node 2 : 0 0 0 0 0 \n",
      "\n",
      "Node 3 : 0 0 0 0 0 \n",
      "\n",
      "Node 4 : 0 0 0 0 0 \n",
      "\n",
      "5\n"
     ]
    }
   ],
   "source": [
    "class Graph:\n",
    "    def __init__(self, numNodes, isDirected=False, isWeighted=False):\n",
    "        self.G = [[0]*numNodes for _ in range(numNodes)]\n",
    "        self.numNodes = numNodes\n",
    "        self.isDirected = isDirected\n",
    "        self.isWeighted = isWeighted\n",
    "        \n",
    "    def addEdge(self, x, y, weight=1):\n",
    "        if (self.isDirected):\n",
    "            self.G[x][y] = weight\n",
    "        else:\n",
    "            self.G[x][y] = weight\n",
    "            self.G[y][x] = weight\n",
    "    \n",
    "    def isConnected(self, x, y):\n",
    "        if self.G[x][y] != 0: return True\n",
    "        else: return False\n",
    "    \n",
    "    def printMatrix(self):\n",
    "        print(\"Graph is\")\n",
    "        for i in range(self.numNodes):\n",
    "            print(\"Node\", i, \": \", end=\"\")\n",
    "            for j in range(self.numNodes):\n",
    "                print(self.G[i][j], end=\" \")\n",
    "            print(\"\\n\")\n",
    "    \n",
    "    def getWeight(self, x, y):\n",
    "        return self.G[x][y]\n",
    "        \n",
    "\n",
    "g1 = Graph(5, False, True)\n",
    "g1.printMatrix()\n",
    "g1.addEdge(0, 1, 5)\n",
    "g1.printMatrix()\n",
    "print(g1.getWeight(1, 0))"
   ]
  },
  {
   "cell_type": "code",
   "execution_count": null,
   "id": "d203dd3c",
   "metadata": {},
   "outputs": [],
   "source": []
  }
 ],
 "metadata": {
  "kernelspec": {
   "display_name": "Python 3 (ipykernel)",
   "language": "python",
   "name": "python3"
  },
  "language_info": {
   "codemirror_mode": {
    "name": "ipython",
    "version": 3
   },
   "file_extension": ".py",
   "mimetype": "text/x-python",
   "name": "python",
   "nbconvert_exporter": "python",
   "pygments_lexer": "ipython3",
   "version": "3.9.13"
  }
 },
 "nbformat": 4,
 "nbformat_minor": 5
}
