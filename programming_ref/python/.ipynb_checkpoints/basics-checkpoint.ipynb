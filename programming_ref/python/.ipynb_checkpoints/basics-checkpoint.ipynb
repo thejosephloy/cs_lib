{
 "cells": [
  {
   "cell_type": "code",
   "execution_count": 1,
   "id": "025bc043",
   "metadata": {},
   "outputs": [],
   "source": [
    "# basics.ipynb\n",
    "# Reference file for demonstrating the basic functionality and usage of the Python language.\n",
    "# \n",
    "#"
   ]
  },
  {
   "cell_type": "code",
   "execution_count": 7,
   "id": "d4196765",
   "metadata": {},
   "outputs": [],
   "source": [
    "# How to install library\n",
    "#\n",
    "#\n",
    "\n",
    "# How to import a library\n",
    "import numpy as np\n",
    "import scipy as sp\n",
    "import matplotlib as plt\n",
    "import pandas as pd"
   ]
  },
  {
   "cell_type": "code",
   "execution_count": 1,
   "id": "b5eed7fe",
   "metadata": {},
   "outputs": [
    {
     "ename": "IndentationError",
     "evalue": "expected an indented block after function definition on line 7 (742984589.py, line 9)",
     "output_type": "error",
     "traceback": [
      "\u001b[0;36m  Cell \u001b[0;32mIn[1], line 9\u001b[0;36m\u001b[0m\n\u001b[0;31m    exampleClassInstance1 = exampleClassName(7)\u001b[0m\n\u001b[0m                                               ^\u001b[0m\n\u001b[0;31mIndentationError\u001b[0m\u001b[0;31m:\u001b[0m expected an indented block after function definition on line 7\n"
     ]
    }
   ],
   "source": [
    "# Classes and functions in python\n",
    "class exampleClassName:\n",
    "    \n",
    "    def __init__(self, arg1, arg2 = \"defaultValue\"):\n",
    "        self.memberVar1 = arg1\n",
    "        self.memberVar2 = arg2\n",
    "    def userNamedFunction(self, arg1):\n",
    "        print()\n",
    "        \n",
    "exampleClassInstance1 = exampleClassName(7)\n",
    "exampleClassInstance2 = exampleClassName(4, \"Im special bro\")\n",
    "print(\"memberVar1 is for instance 1 is \" + exampleClassInstance1.memberVar1 + \",memberVar2 for instance 1 is \" + exampleClassInstance1.memberVar2)"
   ]
  },
  {
   "cell_type": "code",
   "execution_count": 5,
   "id": "8f6dadca",
   "metadata": {},
   "outputs": [],
   "source": [
    "# For loops\n",
    "\n",
    "# While loops\n",
    "\n",
    "# if else\n",
    "\n",
    "# if elif else\n",
    "\n",
    "# switch\n",
    "\n",
    "# ternary operator\n",
    "\n",
    "# walrus operator"
   ]
  },
  {
   "cell_type": "code",
   "execution_count": 8,
   "id": "1ca8b196",
   "metadata": {},
   "outputs": [],
   "source": [
    "# How to read input from file\n"
   ]
  },
  {
   "cell_type": "code",
   "execution_count": 9,
   "id": "9b1dee7d",
   "metadata": {},
   "outputs": [],
   "source": [
    "# How to plot data"
   ]
  },
  {
   "cell_type": "code",
   "execution_count": null,
   "id": "ae4d74a3",
   "metadata": {},
   "outputs": [],
   "source": []
  }
 ],
 "metadata": {
  "kernelspec": {
   "display_name": "Python 3 (ipykernel)",
   "language": "python",
   "name": "python3"
  },
  "language_info": {
   "codemirror_mode": {
    "name": "ipython",
    "version": 3
   },
   "file_extension": ".py",
   "mimetype": "text/x-python",
   "name": "python",
   "nbconvert_exporter": "python",
   "pygments_lexer": "ipython3",
   "version": "3.10.9"
  }
 },
 "nbformat": 4,
 "nbformat_minor": 5
}
