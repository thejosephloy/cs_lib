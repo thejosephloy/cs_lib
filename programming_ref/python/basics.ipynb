{
 "cells": [
  {
   "cell_type": "code",
   "execution_count": 1,
   "id": "025bc043",
   "metadata": {},
   "outputs": [],
   "source": [
    "# basics.ipynb\n",
    "# Reference file for demonstrating the basic functionality and usage of the Python language.\n",
    "# \n",
    "#"
   ]
  },
  {
   "cell_type": "code",
   "execution_count": 7,
   "id": "d4196765",
   "metadata": {},
   "outputs": [],
   "source": [
    "# How to install library\n",
    "#\n",
    "#\n",
    "\n",
    "# How to import a library\n",
    "import numpy as np\n",
    "import scipy as sp\n",
    "import matplotlib as plt\n",
    "import pandas as pd"
   ]
  },
  {
   "cell_type": "code",
   "execution_count": 3,
   "id": "b5eed7fe",
   "metadata": {},
   "outputs": [],
   "source": [
    "# Classes in python\n"
   ]
  },
  {
   "cell_type": "code",
   "execution_count": 4,
   "id": "6ee4451c",
   "metadata": {},
   "outputs": [],
   "source": [
    "# Functions in python"
   ]
  },
  {
   "cell_type": "code",
   "execution_count": 5,
   "id": "8f6dadca",
   "metadata": {},
   "outputs": [],
   "source": [
    "# For loops\n",
    "\n",
    "# While loops\n",
    "\n",
    "# if else\n",
    "\n",
    "# if elif else\n",
    "\n",
    "# switch\n",
    "\n",
    "# ternary operator\n",
    "\n",
    "# walrus operator"
   ]
  },
  {
   "cell_type": "code",
   "execution_count": 8,
   "id": "1ca8b196",
   "metadata": {},
   "outputs": [],
   "source": [
    "# How to read input from file\n"
   ]
  },
  {
   "cell_type": "code",
   "execution_count": 9,
   "id": "9b1dee7d",
   "metadata": {},
   "outputs": [],
   "source": [
    "# How to plot data"
   ]
  },
  {
   "cell_type": "code",
   "execution_count": null,
   "id": "ae4d74a3",
   "metadata": {},
   "outputs": [],
   "source": []
  }
 ],
 "metadata": {
  "kernelspec": {
   "display_name": "Python 3 (ipykernel)",
   "language": "python",
   "name": "python3"
  },
  "language_info": {
   "codemirror_mode": {
    "name": "ipython",
    "version": 3
   },
   "file_extension": ".py",
   "mimetype": "text/x-python",
   "name": "python",
   "nbconvert_exporter": "python",
   "pygments_lexer": "ipython3",
   "version": "3.10.9"
  }
 },
 "nbformat": 4,
 "nbformat_minor": 5
}
