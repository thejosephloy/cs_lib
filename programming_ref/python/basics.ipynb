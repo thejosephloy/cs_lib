{
 "cells": [
  {
   "cell_type": "code",
   "execution_count": 17,
   "id": "025bc043",
   "metadata": {},
   "outputs": [],
   "source": [
    "# basics.ipynb\n",
    "# Reference file for demonstrating the basic functionality and usage of the Python language.\n",
    "# \n",
    "#"
   ]
  },
  {
   "cell_type": "code",
   "execution_count": 18,
   "id": "d4196765",
   "metadata": {},
   "outputs": [],
   "source": [
    "# How to install library\n",
    "# pip3 install library-name\n",
    "#\n",
    "\n",
    "# How to import a library\n",
    "import numpy as np\n",
    "import scipy as sp\n",
    "import matplotlib as plt\n",
    "import pandas as pd"
   ]
  },
  {
   "cell_type": "code",
   "execution_count": 19,
   "id": "7e5eb584",
   "metadata": {},
   "outputs": [],
   "source": [
    "# How to import py file \n",
    "import exampleClass"
   ]
  },
  {
   "cell_type": "code",
   "execution_count": 20,
   "id": "b5eed7fe",
   "metadata": {},
   "outputs": [
    {
     "name": "stdout",
     "output_type": "stream",
     "text": [
      "memberVar1 is for instance is 7 , memberVar2 for instance is defaultValue\n",
      "memberVar1 is for instance is 4 , memberVar2 for instance is Im special bro\n"
     ]
    },
    {
     "ename": "NameError",
     "evalue": "name 'println' is not defined",
     "output_type": "error",
     "traceback": [
      "\u001b[0;31m---------------------------------------------------------------------------\u001b[0m",
      "\u001b[0;31mNameError\u001b[0m                                 Traceback (most recent call last)",
      "Cell \u001b[0;32mIn[20], line 22\u001b[0m\n\u001b[1;32m     19\u001b[0m exampleClassInstance2\u001b[38;5;241m.\u001b[39misSpecial(\u001b[38;5;241m2\u001b[39m)\n\u001b[1;32m     21\u001b[0m TC \u001b[38;5;241m=\u001b[39m exampleClass\u001b[38;5;241m.\u001b[39mtestClass()\n\u001b[0;32m---> 22\u001b[0m \u001b[43mTC\u001b[49m\u001b[38;5;241;43m.\u001b[39;49m\u001b[43mprintState\u001b[49m\u001b[43m(\u001b[49m\u001b[43m)\u001b[49m\n\u001b[1;32m     23\u001b[0m TC\u001b[38;5;241m.\u001b[39maddN(\u001b[38;5;241m5\u001b[39m)\n\u001b[1;32m     24\u001b[0m TC\u001b[38;5;241m.\u001b[39mprintState()\n",
      "File \u001b[0;32m~/Documents/cs_lib/programming_ref/python/exampleClass.py:11\u001b[0m, in \u001b[0;36mtestClass.printState\u001b[0;34m(self)\u001b[0m\n\u001b[1;32m     10\u001b[0m \u001b[38;5;28;01mdef\u001b[39;00m \u001b[38;5;21mprintState\u001b[39m(\u001b[38;5;28mself\u001b[39m):\n\u001b[0;32m---> 11\u001b[0m \t\u001b[43mprintln\u001b[49m(\u001b[38;5;124m\"\u001b[39m\u001b[38;5;124mvar1 is \u001b[39m\u001b[38;5;124m\"\u001b[39m, \u001b[38;5;28mself\u001b[39m\u001b[38;5;241m.\u001b[39mvar1)\n\u001b[1;32m     12\u001b[0m \tprintln(\u001b[38;5;124m\"\u001b[39m\u001b[38;5;124mvar2 is \u001b[39m\u001b[38;5;124m\"\u001b[39m, \u001b[38;5;28mself\u001b[39m\u001b[38;5;241m.\u001b[39mvar2)\n",
      "\u001b[0;31mNameError\u001b[0m: name 'println' is not defined"
     ]
    }
   ],
   "source": [
    "# Classes and functions in python\n",
    "class exampleClassName:\n",
    "    \n",
    "    def __init__(self, arg1, arg2 = \"defaultValue\"):\n",
    "        self.memberVar1 = arg1\n",
    "        self.memberVar2 = arg2\n",
    "    def userNamedFunction(self):\n",
    "        print(\"memberVar1 is for instance is\", self.memberVar1, \", memberVar2 for instance is\", self.memberVar2)\n",
    "    def isSpecial(self, favNumber):\n",
    "        if favNumber == 2 and self.memberVar2 != \"defaultValue\":\n",
    "            return True\n",
    "        else:\n",
    "            return False\n",
    "        \n",
    "exampleClassInstance1 = exampleClassName(7)\n",
    "exampleClassInstance2 = exampleClassName(4, \"Im special bro\")\n",
    "exampleClassInstance1.userNamedFunction()\n",
    "exampleClassInstance2.userNamedFunction()\n",
    "exampleClassInstance2.isSpecial(2)\n",
    "\n",
    "TC = exampleClass.testClass()\n",
    "TC.printState()\n",
    "TC.addN(5)\n",
    "TC.printState()"
   ]
  },
  {
   "cell_type": "code",
   "execution_count": 28,
   "id": "8f6dadca",
   "metadata": {},
   "outputs": [
    {
     "name": "stdout",
     "output_type": "stream",
     "text": [
      "1\n",
      "2\n",
      "3\n",
      "4\n",
      "5\n",
      "6\n",
      "7\n",
      "8\n",
      "9\n",
      "10\n",
      "1\n",
      "3\n",
      "5\n",
      "7\n",
      "9\n",
      "11\n",
      "10\n",
      "9\n",
      "8\n",
      "7\n",
      "6\n",
      "5\n",
      "4\n",
      "3\n",
      "2\n",
      "1\n",
      "13\n"
     ]
    }
   ],
   "source": [
    "# For loops\n",
    "start = 1\n",
    "end = 11\n",
    "# Loop goes from [start, end) \n",
    "for i in range(start, end):\n",
    "    print(i)\n",
    "\n",
    "stepSize = 2    \n",
    "for j in range(start, end, stepSize):\n",
    "    print(j)\n",
    "\n",
    "# While loops\n",
    "while(end > 0):\n",
    "    print(end)\n",
    "    end -= 1\n",
    "    \n",
    "# if else\n",
    "isTrue = False\n",
    "if (isTrue == True):\n",
    "    #Does this if statement in paranthesis is True\n",
    "    stepSize = 2\n",
    "else:\n",
    "    # Does this if statement in paranthesis is False\n",
    "    stepSize = 1\n",
    "\n",
    "# if elif else\n",
    "if (stepSize == 2):\n",
    "    stepSize = 12\n",
    "elif (stepSize == 1):\n",
    "    stepSize = 13\n",
    "else:\n",
    "    stepSize = 14\n",
    "\n",
    "print(stepSize)\n",
    "# switch\n",
    "\n",
    "# ternary operator\n",
    "\n",
    "# walrus operator"
   ]
  },
  {
   "cell_type": "code",
   "execution_count": 8,
   "id": "1ca8b196",
   "metadata": {},
   "outputs": [],
   "source": [
    "# How to read input from file\n"
   ]
  },
  {
   "cell_type": "code",
   "execution_count": 9,
   "id": "9b1dee7d",
   "metadata": {},
   "outputs": [],
   "source": [
    "# How to plot data"
   ]
  },
  {
   "cell_type": "code",
   "execution_count": null,
   "id": "ae4d74a3",
   "metadata": {},
   "outputs": [],
   "source": []
  }
 ],
 "metadata": {
  "kernelspec": {
   "display_name": "Python 3 (ipykernel)",
   "language": "python",
   "name": "python3"
  },
  "language_info": {
   "codemirror_mode": {
    "name": "ipython",
    "version": 3
   },
   "file_extension": ".py",
   "mimetype": "text/x-python",
   "name": "python",
   "nbconvert_exporter": "python",
   "pygments_lexer": "ipython3",
   "version": "3.10.9"
  }
 },
 "nbformat": 4,
 "nbformat_minor": 5
}
